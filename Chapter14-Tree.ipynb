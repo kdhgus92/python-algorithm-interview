{
 "cells": [
  {
   "cell_type": "markdown",
   "id": "123af93c-dcc8-4468-a4a8-7baa18e3a16e",
   "metadata": {},
   "source": [
    "# Chapter14. Tree"
   ]
  },
  {
   "cell_type": "code",
   "execution_count": 1,
   "id": "cb393784-8cbe-48e6-a5df-9e21a35cca58",
   "metadata": {},
   "outputs": [],
   "source": [
    "# Definition for a binary tree node.\n",
    "class TreeNode:\n",
    "    def __init__(self, val=0, left=None, right=None):\n",
    "        self.val = val\n",
    "        self.left = left\n",
    "        self.right = right"
   ]
  },
  {
   "cell_type": "code",
   "execution_count": null,
   "id": "0d1599c5-ef3d-4590-b915-81e9e00dddc9",
   "metadata": {},
   "outputs": [],
   "source": []
  }
 ],
 "metadata": {
  "kernelspec": {
   "display_name": "Python 3 (ipykernel)",
   "language": "python",
   "name": "python3"
  },
  "language_info": {
   "codemirror_mode": {
    "name": "ipython",
    "version": 3
   },
   "file_extension": ".py",
   "mimetype": "text/x-python",
   "name": "python",
   "nbconvert_exporter": "python",
   "pygments_lexer": "ipython3",
   "version": "3.12.5"
  }
 },
 "nbformat": 4,
 "nbformat_minor": 5
}
