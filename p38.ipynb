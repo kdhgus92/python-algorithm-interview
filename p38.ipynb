{
 "cells": [
  {
   "cell_type": "code",
   "execution_count": 10,
   "id": "eea9e419-f95f-4f86-964f-288fea515ceb",
   "metadata": {},
   "outputs": [],
   "source": [
    "import collections"
   ]
  },
  {
   "cell_type": "code",
   "execution_count": 11,
   "id": "76618e60-a980-47a0-ab35-7403ccd9d4b0",
   "metadata": {},
   "outputs": [],
   "source": [
    "tickets = [[\"JFK\", \"KUL\"], [\"JFK\", \"NRT\"], [\"NRT\", \"AAA\"]]"
   ]
  },
  {
   "cell_type": "code",
   "execution_count": 12,
   "id": "2c52c9ca-8b84-4f1f-9123-d14bb938d2b1",
   "metadata": {},
   "outputs": [],
   "source": [
    "graph = collections.defaultdict(list)\n",
    "for a, b in sorted(tickets):\n",
    "    graph[a].append(b)"
   ]
  },
  {
   "cell_type": "code",
   "execution_count": 13,
   "id": "9fc5ed7a-b820-4505-9831-74457fa8fea3",
   "metadata": {},
   "outputs": [
    {
     "data": {
      "text/plain": [
       "defaultdict(list, {'JFK': ['KUL', 'NRT'], 'NRT': ['AAA']})"
      ]
     },
     "execution_count": 13,
     "metadata": {},
     "output_type": "execute_result"
    }
   ],
   "source": [
    "graph"
   ]
  },
  {
   "cell_type": "code",
   "execution_count": 14,
   "id": "ad180e9a-b4c1-4460-9b4c-369e1175b7ec",
   "metadata": {},
   "outputs": [],
   "source": [
    "route = []\n",
    "def dfs(a):\n",
    "    print(\"dfs(\", a, \") is called\")\n",
    "    while graph[a]:\n",
    "        dfs(graph[a].pop(0))\n",
    "    route.append(a)\n",
    "    print(\"route.append(\", a, \")\")"
   ]
  },
  {
   "cell_type": "code",
   "execution_count": 15,
   "id": "097b7404-2a9f-48b7-967b-2c35be683c51",
   "metadata": {},
   "outputs": [
    {
     "name": "stdout",
     "output_type": "stream",
     "text": [
      "dfs( JFK ) is called\n",
      "dfs( KUL ) is called\n",
      "route.append( KUL )\n",
      "dfs( NRT ) is called\n",
      "dfs( AAA ) is called\n",
      "route.append( AAA )\n",
      "route.append( NRT )\n",
      "route.append( JFK )\n"
     ]
    }
   ],
   "source": [
    "dfs('JFK')"
   ]
  },
  {
   "cell_type": "code",
   "execution_count": 7,
   "id": "4d84562d-45b3-4b2c-bbe7-c8ca15dd80b6",
   "metadata": {},
   "outputs": [
    {
     "name": "stdout",
     "output_type": "stream",
     "text": [
      "dfs( JFK ) is called\n",
      "route.append( JFK )\n"
     ]
    }
   ],
   "source": [
    "dfs('JFK')"
   ]
  },
  {
   "cell_type": "code",
   "execution_count": 16,
   "id": "2b94837a-d1f9-4490-8609-98fe3cac85e6",
   "metadata": {},
   "outputs": [
    {
     "data": {
      "text/plain": [
       "['KUL', 'AAA', 'NRT', 'JFK']"
      ]
     },
     "execution_count": 16,
     "metadata": {},
     "output_type": "execute_result"
    }
   ],
   "source": [
    "route"
   ]
  },
  {
   "cell_type": "code",
   "execution_count": 19,
   "id": "b34acf17-8790-4b61-9ca9-b6b7e40f21d3",
   "metadata": {},
   "outputs": [
    {
     "data": {
      "text/plain": [
       "['JFK', 'NRT', 'AAA', 'KUL']"
      ]
     },
     "execution_count": 19,
     "metadata": {},
     "output_type": "execute_result"
    }
   ],
   "source": [
    "graph = collections.defaultdict(list)\n",
    "\n",
    "for a, b in sorted(tickets):\n",
    "    graph[a].append(b)\n",
    "\n",
    "route, stack = [], ['JFK']\n",
    "while stack:\n",
    "    while graph[stack[-1]]:\n",
    "        stack.append(graph[stack[-1]].pop(0))\n",
    "    route.append(stack.pop())\n",
    "\n",
    "route[::-1]"
   ]
  },
  {
   "cell_type": "code",
   "execution_count": null,
   "id": "5f16dc19-d1ae-475f-a160-853702e2ffd4",
   "metadata": {},
   "outputs": [],
   "source": []
  },
  {
   "cell_type": "code",
   "execution_count": 3,
   "id": "0d00a2bd-8e69-4d93-8f10-ab96d4f1633d",
   "metadata": {},
   "outputs": [],
   "source": [
    "import collections"
   ]
  },
  {
   "cell_type": "code",
   "execution_count": 4,
   "id": "6cee6959-9634-4c86-81e8-24570db475f6",
   "metadata": {},
   "outputs": [],
   "source": [
    "times = [[2,1,1],[2,3,1],[3,4,1]]"
   ]
  },
  {
   "cell_type": "code",
   "execution_count": 5,
   "id": "5132b25d-1a5a-4654-aceb-a73338dc69f6",
   "metadata": {},
   "outputs": [],
   "source": [
    "graph = collections.defaultdict(list)\n",
    "for u, v, w in times:\n",
    "    graph[u].append((v, w))"
   ]
  },
  {
   "cell_type": "code",
   "execution_count": 6,
   "id": "337bb22c-cf59-4c97-baaf-ad548dcf8fe4",
   "metadata": {},
   "outputs": [
    {
     "data": {
      "text/plain": [
       "defaultdict(list, {2: [(1, 1), (3, 1)], 3: [(4, 1)]})"
      ]
     },
     "execution_count": 6,
     "metadata": {},
     "output_type": "execute_result"
    }
   ],
   "source": [
    "graph"
   ]
  },
  {
   "cell_type": "code",
   "execution_count": null,
   "id": "28dfe9ae-d808-423f-a1ff-86f42d46a2bf",
   "metadata": {},
   "outputs": [],
   "source": [
    "while Q:\n",
    "    time, node = heapq.heappop(Q)\n",
    "    if node not in dist:\n",
    "        dist[node] = time\n",
    "        for v, w in graph[node]:\n",
    "            alt = time + w\n",
    "            heapq.heappush(Q, (alt, v))"
   ]
  },
  {
   "cell_type": "code",
   "execution_count": null,
   "id": "c3b4cf6e-0b79-4b58-9d71-ee8305617846",
   "metadata": {},
   "outputs": [],
   "source": []
  },
  {
   "cell_type": "code",
   "execution_count": null,
   "id": "44e0d2fb-77c5-407b-82de-c1c3a03f49d1",
   "metadata": {},
   "outputs": [],
   "source": []
  },
  {
   "cell_type": "code",
   "execution_count": null,
   "id": "9b439516-de18-45a7-9c6c-47dba2116c4a",
   "metadata": {},
   "outputs": [],
   "source": []
  }
 ],
 "metadata": {
  "kernelspec": {
   "display_name": "Python 3 (ipykernel)",
   "language": "python",
   "name": "python3"
  },
  "language_info": {
   "codemirror_mode": {
    "name": "ipython",
    "version": 3
   },
   "file_extension": ".py",
   "mimetype": "text/x-python",
   "name": "python",
   "nbconvert_exporter": "python",
   "pygments_lexer": "ipython3",
   "version": "3.12.5"
  }
 },
 "nbformat": 4,
 "nbformat_minor": 5
}
