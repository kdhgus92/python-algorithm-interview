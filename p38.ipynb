{
 "cells": [
  {
   "cell_type": "code",
   "execution_count": 1,
   "id": "eea9e419-f95f-4f86-964f-288fea515ceb",
   "metadata": {},
   "outputs": [],
   "source": [
    "import collections"
   ]
  },
  {
   "cell_type": "code",
   "execution_count": 2,
   "id": "76618e60-a980-47a0-ab35-7403ccd9d4b0",
   "metadata": {},
   "outputs": [],
   "source": [
    "tickets = [[\"JFK\", \"KUL\"], [\"JFK\", \"NRT\"], [\"NRT\", \"JFK\"]]"
   ]
  },
  {
   "cell_type": "code",
   "execution_count": 3,
   "id": "2c52c9ca-8b84-4f1f-9123-d14bb938d2b1",
   "metadata": {},
   "outputs": [],
   "source": [
    "graph = collections.defaultdict(list)\n",
    "for a, b in sorted(tickets):\n",
    "    graph[a].append(b)"
   ]
  },
  {
   "cell_type": "code",
   "execution_count": 4,
   "id": "9fc5ed7a-b820-4505-9831-74457fa8fea3",
   "metadata": {},
   "outputs": [
    {
     "data": {
      "text/plain": [
       "defaultdict(list, {'JFK': ['KUL', 'NRT'], 'NRT': ['JFK']})"
      ]
     },
     "execution_count": 4,
     "metadata": {},
     "output_type": "execute_result"
    }
   ],
   "source": [
    "graph"
   ]
  },
  {
   "cell_type": "code",
   "execution_count": 5,
   "id": "ad180e9a-b4c1-4460-9b4c-369e1175b7ec",
   "metadata": {},
   "outputs": [],
   "source": [
    "route = []\n",
    "def dfs(a):\n",
    "    print(\"dfs(\", a, \") is called\")\n",
    "    while graph[a]:\n",
    "        dfs(graph[a].pop(0))\n",
    "    route.append(a)\n",
    "    print(\"route.append(\", a, \")\")"
   ]
  },
  {
   "cell_type": "code",
   "execution_count": 6,
   "id": "097b7404-2a9f-48b7-967b-2c35be683c51",
   "metadata": {},
   "outputs": [
    {
     "name": "stdout",
     "output_type": "stream",
     "text": [
      "dfs( JFK ) is called\n",
      "dfs( KUL ) is called\n",
      "route.append( KUL )\n",
      "dfs( NRT ) is called\n",
      "dfs( JFK ) is called\n",
      "route.append( JFK )\n",
      "route.append( NRT )\n",
      "route.append( JFK )\n"
     ]
    }
   ],
   "source": [
    "dfs('JFK')"
   ]
  },
  {
   "cell_type": "code",
   "execution_count": 7,
   "id": "4d84562d-45b3-4b2c-bbe7-c8ca15dd80b6",
   "metadata": {},
   "outputs": [
    {
     "name": "stdout",
     "output_type": "stream",
     "text": [
      "dfs( JFK ) is called\n",
      "route.append( JFK )\n"
     ]
    }
   ],
   "source": [
    "dfs('JFK')"
   ]
  },
  {
   "cell_type": "code",
   "execution_count": 8,
   "id": "2b94837a-d1f9-4490-8609-98fe3cac85e6",
   "metadata": {},
   "outputs": [
    {
     "data": {
      "text/plain": [
       "['KUL', 'JFK', 'NRT', 'JFK', 'JFK']"
      ]
     },
     "execution_count": 8,
     "metadata": {},
     "output_type": "execute_result"
    }
   ],
   "source": [
    "route"
   ]
  },
  {
   "cell_type": "code",
   "execution_count": null,
   "id": "b34acf17-8790-4b61-9ca9-b6b7e40f21d3",
   "metadata": {},
   "outputs": [],
   "source": []
  }
 ],
 "metadata": {
  "kernelspec": {
   "display_name": "Python 3",
   "language": "python",
   "name": "python3"
  },
  "language_info": {
   "codemirror_mode": {
    "name": "ipython",
    "version": 3
   },
   "file_extension": ".py",
   "mimetype": "text/x-python",
   "name": "python",
   "nbconvert_exporter": "python",
   "pygments_lexer": "ipython3",
   "version": "3.9.6"
  }
 },
 "nbformat": 4,
 "nbformat_minor": 5
}
