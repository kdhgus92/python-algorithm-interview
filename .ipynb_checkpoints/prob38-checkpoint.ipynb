{
 "cells": [
  {
   "cell_type": "code",
   "execution_count": 2,
   "metadata": {},
   "outputs": [],
   "source": [
    "import collections"
   ]
  },
  {
   "cell_type": "code",
   "execution_count": 25,
   "metadata": {},
   "outputs": [],
   "source": [
    "tickets = [[\"JFK\", \"LUL\"], [\"JFK\", \"NRT\"], [\"NRT\", \"JFK\"]]\n",
    "graph = collections.defaultdict(list)"
   ]
  },
  {
   "cell_type": "code",
   "execution_count": 26,
   "metadata": {},
   "outputs": [
    {
     "data": {
      "text/plain": [
       "[['JFK', 'LUL'], ['JFK', 'NRT'], ['NRT', 'JFK']]"
      ]
     },
     "execution_count": 26,
     "metadata": {},
     "output_type": "execute_result"
    }
   ],
   "source": [
    "sorted(tickets)"
   ]
  },
  {
   "cell_type": "code",
   "execution_count": 27,
   "metadata": {},
   "outputs": [
    {
     "name": "stdout",
     "output_type": "stream",
     "text": [
      "JFK LUL\n",
      "JFK NRT\n",
      "NRT JFK\n"
     ]
    }
   ],
   "source": [
    "for a, b in sorted(tickets):\n",
    "    print(a, b)\n",
    "    graph[a].append(b)\n",
    "    "
   ]
  },
  {
   "cell_type": "code",
   "execution_count": 28,
   "metadata": {},
   "outputs": [
    {
     "data": {
      "text/plain": [
       "defaultdict(list, {'JFK': ['LUL', 'NRT'], 'NRT': ['JFK']})"
      ]
     },
     "execution_count": 28,
     "metadata": {},
     "output_type": "execute_result"
    }
   ],
   "source": [
    "graph"
   ]
  },
  {
   "cell_type": "code",
   "execution_count": 29,
   "metadata": {},
   "outputs": [],
   "source": [
    "route = []"
   ]
  },
  {
   "cell_type": "code",
   "execution_count": 30,
   "metadata": {},
   "outputs": [],
   "source": [
    "def dfs(a):\n",
    "    print(\"dfs(\", a, \") called\")\n",
    "    while graph[a]:\n",
    "        next = graph[a].pop(0)\n",
    "        dfs(next)\n",
    "    route.append(a)\n",
    "    print(\"route: \", route)"
   ]
  },
  {
   "cell_type": "code",
   "execution_count": 31,
   "metadata": {},
   "outputs": [
    {
     "name": "stdout",
     "output_type": "stream",
     "text": [
      "dfs( JFK ) called\n",
      "dfs( LUL ) called\n",
      "route:  ['LUL']\n",
      "dfs( NRT ) called\n",
      "dfs( JFK ) called\n",
      "route:  ['LUL', 'JFK']\n",
      "route:  ['LUL', 'JFK', 'NRT']\n",
      "route:  ['LUL', 'JFK', 'NRT', 'JFK']\n"
     ]
    }
   ],
   "source": [
    "dfs('JFK')"
   ]
  },
  {
   "cell_type": "code",
   "execution_count": null,
   "metadata": {},
   "outputs": [],
   "source": []
  }
 ],
 "metadata": {
  "kernelspec": {
   "display_name": "Python 3 (ipykernel)",
   "language": "python",
   "name": "python3"
  },
  "language_info": {
   "codemirror_mode": {
    "name": "ipython",
    "version": 3
   },
   "file_extension": ".py",
   "mimetype": "text/x-python",
   "name": "python",
   "nbconvert_exporter": "python",
   "pygments_lexer": "ipython3",
   "version": "3.12.5"
  }
 },
 "nbformat": 4,
 "nbformat_minor": 4
}
