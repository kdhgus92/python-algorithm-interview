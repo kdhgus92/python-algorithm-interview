{
 "cells": [
  {
   "attachments": {},
   "cell_type": "markdown",
   "id": "1a36b73b",
   "metadata": {},
   "source": [
    "# 파이썬 알고리즘 인터뷰 문제 08"
   ]
  },
  {
   "cell_type": "code",
   "execution_count": 1,
   "id": "c5b1ea0a",
   "metadata": {},
   "outputs": [],
   "source": [
    "#height = [0,1,0,2,1,0,1,3,2,1,2,1]\n",
    "height = [0,1,2,0,0,1,3]"
   ]
  },
  {
   "cell_type": "code",
   "execution_count": 2,
   "id": "159b9417",
   "metadata": {},
   "outputs": [],
   "source": [
    "stack = []\n",
    "volume = 0"
   ]
  },
  {
   "cell_type": "code",
   "execution_count": 3,
   "id": "1a4240f9",
   "metadata": {},
   "outputs": [
    {
     "name": "stdout",
     "output_type": "stream",
     "text": [
      "i: 0 , start! 현재높이: 0 이전 999의 높이: 없음\n",
      "i: 0 , end!, stack: [0]\n",
      "i: 1 , start! 현재높이: 1 이전 0의 높이: 0\n",
      "i: 1 in while stack:  [0]\n",
      "i: 1 in while after pop, top: 0 , stack: []\n",
      "i: 1 , break\n",
      "i: 1 , end!, stack: [1]\n",
      "i: 2 , start! 현재높이: 2 이전 1의 높이: 1\n",
      "i: 2 in while stack:  [1]\n",
      "i: 2 in while after pop, top: 1 , stack: []\n",
      "i: 2 , break\n",
      "i: 2 , end!, stack: [2]\n",
      "i: 3 , start! 현재높이: 0 이전 2의 높이: 2\n",
      "i: 3 , end!, stack: [2, 3]\n",
      "i: 4 , start! 현재높이: 0 이전 3의 높이: 0\n",
      "i: 4 , end!, stack: [2, 3, 4]\n",
      "i: 5 , start! 현재높이: 1 이전 4의 높이: 0\n",
      "i: 5 in while stack:  [2, 3, 4]\n",
      "i: 5 in while after pop, top: 4 , stack: [2, 3]\n",
      "i: 5 distance: 1 이전 index: 3\n",
      "i: 5 waters: 0 현재높이: 1 이전 3의 높이: 0 top의 높이: 0\n",
      "i: 5 volume: 0 현재높이: 1 이전 3의 높이: 0\n",
      "i: 5 in while stack:  [2, 3]\n",
      "i: 5 in while after pop, top: 3 , stack: [2]\n",
      "i: 5 distance: 2 이전 index: 2\n",
      "i: 5 waters: 1 현재높이: 1 이전 2의 높이: 2 top의 높이: 0\n",
      "i: 5 volume: 2 현재높이: 1 이전 2의 높이: 2\n",
      "i: 5 , end!, stack: [2, 5]\n",
      "i: 6 , start! 현재높이: 3 이전 5의 높이: 1\n",
      "i: 6 in while stack:  [2, 5]\n",
      "i: 6 in while after pop, top: 5 , stack: [2]\n",
      "i: 6 distance: 3 이전 index: 2\n",
      "i: 6 waters: 1 현재높이: 3 이전 2의 높이: 2 top의 높이: 1\n",
      "i: 6 volume: 5 현재높이: 3 이전 2의 높이: 2\n",
      "i: 6 in while stack:  [2]\n",
      "i: 6 in while after pop, top: 2 , stack: []\n",
      "i: 6 , break\n",
      "i: 6 , end!, stack: [6]\n"
     ]
    }
   ],
   "source": [
    "for i in range(len(height)):\n",
    "    print('i:', i, ', start!', '현재높이:', height[i],f'이전 {stack[-1] if stack else 999}의 높이:', height[stack[-1]] if stack else '없음')\n",
    "    while stack and height[i] > height[stack[-1]]:\n",
    "        print('i:', i, 'in while stack: ', stack)\n",
    "        \n",
    "        top = stack.pop()\n",
    "        print('i:', i, 'in while after pop, top:', top, ', stack:', stack)\n",
    "        \n",
    "        if not len(stack):\n",
    "            print('i:', i, ', break')\n",
    "            break\n",
    "        \n",
    "        distance = i-stack[-1]-1\n",
    "        print('i:', i, 'distance:', distance, '이전 index:', stack[-1])\n",
    "        \n",
    "        waters = min(height[i], height[stack[-1]])-height[top]\n",
    "        print('i:', i, 'waters:', waters, '현재높이:', height[i],f'이전 {stack[-1]}의 높이:', height[stack[-1]] if stack else '없음', 'top의 높이:', height[top])\n",
    "        \n",
    "        volume += distance * waters\n",
    "        print('i:', i, 'volume:', volume, '현재높이:', height[i],f'이전 {stack[-1]}의 높이:', height[stack[-1]] if stack else '없음')\n",
    "    \n",
    "    stack.append(i)\n",
    "    print('i:', i, ', end!, stack:', stack)"
   ]
  },
  {
   "cell_type": "code",
   "execution_count": 145,
   "id": "06d99378",
   "metadata": {},
   "outputs": [
    {
     "name": "stdout",
     "output_type": "stream",
     "text": [
      "5\n"
     ]
    }
   ],
   "source": [
    "print(volume)"
   ]
  },
  {
   "cell_type": "code",
   "execution_count": null,
   "id": "14da7866",
   "metadata": {},
   "outputs": [],
   "source": []
  },
  {
   "cell_type": "code",
   "execution_count": null,
   "id": "092be9d6",
   "metadata": {},
   "outputs": [],
   "source": []
  },
  {
   "cell_type": "code",
   "execution_count": null,
   "id": "591f5765",
   "metadata": {},
   "outputs": [],
   "source": []
  },
  {
   "cell_type": "code",
   "execution_count": 1,
   "id": "be867e32",
   "metadata": {},
   "outputs": [],
   "source": [
    "nums = [1,2,3,4]"
   ]
  },
  {
   "cell_type": "code",
   "execution_count": 11,
   "id": "8dd111a2",
   "metadata": {},
   "outputs": [
    {
     "name": "stdout",
     "output_type": "stream",
     "text": [
      "4\n",
      "1\n",
      "2\n",
      "6\n",
      "24\n"
     ]
    }
   ],
   "source": [
    "results = []\n",
    "product = 1\n",
    "print(len(nums))\n",
    "        \n",
    "# 0번 요소부터 전부 곱한다. \n",
    "for i in range(len(nums)):\n",
    "    product *= nums[i]\n",
    "    print(product)\n",
    "\n"
   ]
  },
  {
   "cell_type": "code",
   "execution_count": 12,
   "id": "6eccf80a",
   "metadata": {},
   "outputs": [
    {
     "name": "stdout",
     "output_type": "stream",
     "text": [
      "[24, 12, 8, 6]\n"
     ]
    }
   ],
   "source": [
    "for j in range(len(nums)):\n",
    "    results.append(product // nums[j])\n",
    "\n",
    "print(results)"
   ]
  },
  {
   "cell_type": "code",
   "execution_count": null,
   "id": "c0362a8f",
   "metadata": {},
   "outputs": [],
   "source": []
  }
 ],
 "metadata": {
  "kernelspec": {
   "display_name": "Python 3 (ipykernel)",
   "language": "python",
   "name": "python3"
  },
  "language_info": {
   "codemirror_mode": {
    "name": "ipython",
    "version": 3
   },
   "file_extension": ".py",
   "mimetype": "text/x-python",
   "name": "python",
   "nbconvert_exporter": "python",
   "pygments_lexer": "ipython3",
   "version": "3.12.5"
  }
 },
 "nbformat": 4,
 "nbformat_minor": 5
}
